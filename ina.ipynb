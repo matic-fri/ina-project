{
 "cells": [
  {
   "cell_type": "code",
   "execution_count": 1,
   "id": "da5d331f",
   "metadata": {},
   "outputs": [],
   "source": [
    "import pandas as pd\n",
    "import numpy as np\n",
    "import os\n",
    "import networkx as nx\n",
    "import util\n",
    "import methods"
   ]
  },
  {
   "cell_type": "code",
   "execution_count": 2,
   "id": "b794907f",
   "metadata": {},
   "outputs": [],
   "source": [
    "export_data = pd.read_csv('data/filtered.csv', index_col=0)\n",
    "gdp_data = pd.read_csv('data/country_data.csv')\n",
    "\n",
    "G = util.build_graph(export_data, gdp_data)"
   ]
  },
  {
   "cell_type": "code",
   "execution_count": 3,
   "id": "4a88a480",
   "metadata": {},
   "outputs": [],
   "source": [
    "#export_data"
   ]
  },
  {
   "cell_type": "code",
   "execution_count": 4,
   "id": "4dcd17a2",
   "metadata": {
    "jupyter": {
     "source_hidden": true
    },
    "tags": []
   },
   "outputs": [
    {
     "name": "stdout",
     "output_type": "stream",
     "text": [
      "Nr. of nodes:  175\n",
      "Nr. of edges:  18669\n",
      "Average degree:  213.36\n",
      "Density:  1.2262068965517243\n"
     ]
    },
    {
     "data": {
      "text/plain": [
       "(175, 18669, 213.36, 1.2262068965517243)"
      ]
     },
     "execution_count": 4,
     "metadata": {},
     "output_type": "execute_result"
    }
   ],
   "source": [
    "methods.calc_basic_metrics(G)"
   ]
  },
  {
   "cell_type": "code",
   "execution_count": 5,
   "id": "14f4b7ad-9728-48ec-9dcc-7e0acc4033c0",
   "metadata": {},
   "outputs": [
    {
     "data": {
      "text/plain": [
       "True"
      ]
     },
     "execution_count": 5,
     "metadata": {},
     "output_type": "execute_result"
    }
   ],
   "source": [
    "methods.is_weakly_conn(G)"
   ]
  },
  {
   "cell_type": "code",
   "execution_count": null,
   "id": "1a0ef2fa-a2bb-412e-931c-219ffd24fcdc",
   "metadata": {},
   "outputs": [],
   "source": [
    "methods.clustering_coef(G)"
   ]
  },
  {
   "cell_type": "code",
   "execution_count": null,
   "id": "d01d3940-3ffa-4307-9bc8-57ca02b84acf",
   "metadata": {
    "tags": []
   },
   "outputs": [],
   "source": [
    "methods.show_deg_distr(G)"
   ]
  },
  {
   "cell_type": "code",
   "execution_count": null,
   "id": "290ec7a6-747b-4c74-a23b-c548450249cd",
   "metadata": {},
   "outputs": [],
   "source": [
    "betw, clos, in_deg, out_deg = methods.weighted_centr_measures(G)"
   ]
  },
  {
   "cell_type": "code",
   "execution_count": null,
   "id": "d2283cdb-d15d-4389-bf3f-5f5ff704760a",
   "metadata": {},
   "outputs": [],
   "source": [
    "betw"
   ]
  },
  {
   "cell_type": "code",
   "execution_count": null,
   "id": "cdde4f0d-14dd-424e-9f53-933fa64dbc15",
   "metadata": {},
   "outputs": [],
   "source": [
    "clos"
   ]
  },
  {
   "cell_type": "code",
   "execution_count": null,
   "id": "e16b73dd-d440-4b5c-af4e-c5d09b83623e",
   "metadata": {},
   "outputs": [],
   "source": [
    "in_deg"
   ]
  },
  {
   "cell_type": "code",
   "execution_count": null,
   "id": "59450c3b-edc3-421d-b408-a228a46ccabf",
   "metadata": {},
   "outputs": [],
   "source": [
    "out_deg"
   ]
  },
  {
   "cell_type": "code",
   "execution_count": null,
   "id": "c6d3e511-1019-4701-b7f9-b7268a719536",
   "metadata": {},
   "outputs": [],
   "source": []
  }
 ],
 "metadata": {
  "interpreter": {
   "hash": "369f2c481f4da34e4445cda3fffd2e751bd1c4d706f27375911949ba6bb62e1c"
  },
  "kernelspec": {
   "display_name": "Python 3 (ipykernel)",
   "language": "python",
   "name": "python3"
  },
  "language_info": {
   "codemirror_mode": {
    "name": "ipython",
    "version": 3
   },
   "file_extension": ".py",
   "mimetype": "text/x-python",
   "name": "python",
   "nbconvert_exporter": "python",
   "pygments_lexer": "ipython3",
   "version": "3.9.5"
  }
 },
 "nbformat": 4,
 "nbformat_minor": 5
}
