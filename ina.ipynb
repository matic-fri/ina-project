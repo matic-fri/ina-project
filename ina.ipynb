{
 "cells": [
  {
   "cell_type": "code",
   "execution_count": 1,
   "id": "da5d331f",
   "metadata": {},
   "outputs": [],
   "source": [
    "import pandas as pd\n",
    "import numpy as np\n",
    "import os\n",
    "import networkx as nx\n",
    "import util\n",
    "import methods"
   ]
  },
  {
   "cell_type": "code",
   "execution_count": 2,
   "id": "b794907f",
   "metadata": {},
   "outputs": [],
   "source": [
    "export_data = pd.read_csv('data/filtered.csv', index_col=0)\n",
    "gdp_data = pd.read_csv('data/country_data.csv')\n",
    "\n",
    "G = util.build_graph(export_data, gdp_data)"
   ]
  },
  {
   "cell_type": "code",
   "execution_count": 3,
   "id": "4a88a480",
   "metadata": {},
   "outputs": [],
   "source": [
    "# add new attribute distance to all edges\n",
    "for i, j, attributes in G.edges(data=True):\n",
    "    attributes['distance'] = 1 / attributes['weight']"
   ]
  },
  {
   "cell_type": "code",
   "execution_count": 4,
   "id": "4dcd17a2",
   "metadata": {
    "jupyter": {
     "source_hidden": true
    },
    "tags": []
   },
   "outputs": [
    {
     "name": "stdout",
     "output_type": "stream",
     "text": [
      "Nr. of nodes:  175\n",
      "Nr. of edges:  18669\n",
      "Average degree:  213.36\n",
      "Density:  1.2262068965517243\n"
     ]
    },
    {
     "data": {
      "text/plain": [
       "(175, 18669, 213.36, 1.2262068965517243)"
      ]
     },
     "execution_count": 4,
     "metadata": {},
     "output_type": "execute_result"
    }
   ],
   "source": [
    "methods.calc_basic_metrics(G)"
   ]
  },
  {
   "cell_type": "code",
   "execution_count": 5,
   "id": "14f4b7ad-9728-48ec-9dcc-7e0acc4033c0",
   "metadata": {},
   "outputs": [
    {
     "data": {
      "text/plain": [
       "True"
      ]
     },
     "execution_count": 5,
     "metadata": {},
     "output_type": "execute_result"
    }
   ],
   "source": [
    "methods.is_weakly_conn(G)"
   ]
  },
  {
   "cell_type": "code",
   "execution_count": 6,
   "id": "1a0ef2fa-a2bb-412e-931c-219ffd24fcdc",
   "metadata": {},
   "outputs": [
    {
     "name": "stdout",
     "output_type": "stream",
     "text": [
      "Average clustering coeficient:  0.00021213264442610863\n"
     ]
    }
   ],
   "source": [
    "clust_coeff, _ = methods.clustering_coef(G)"
   ]
  },
  {
   "cell_type": "code",
   "execution_count": 7,
   "id": "269e8c3c",
   "metadata": {},
   "outputs": [
    {
     "name": "stdout",
     "output_type": "stream",
     "text": [
      "0.00242 Libya, state of\n",
      "0.00102 Marshall Islands\n",
      "0.00081 Macedonia, north\n",
      "0.00074 Viet Nam\n",
      "0.00073 Germany\n",
      "0.00067 China\n",
      "0.00065 United States of America\n",
      "0.00060 Netherlands\n",
      "0.00057 United arab emirates\n",
      "0.00053 Belgium\n"
     ]
    }
   ],
   "source": [
    "util.print_dict(clust_coeff)"
   ]
  },
  {
   "cell_type": "code",
   "execution_count": 8,
   "id": "d01d3940-3ffa-4307-9bc8-57ca02b84acf",
   "metadata": {
    "tags": []
   },
   "outputs": [
    {
     "data": {
      "image/png": "[encoded data removed]",
      "text/plain": [
       "<Figure size 432x288 with 1 Axes>"
      ]
     },
     "metadata": {
      "needs_background": "light"
     },
     "output_type": "display_data"
    }
   ],
   "source": [
    "methods.show_deg_distr(G)"
   ]
  },
  {
   "cell_type": "code",
   "execution_count": 9,
   "id": "290ec7a6-747b-4c74-a23b-c548450249cd",
   "metadata": {},
   "outputs": [],
   "source": [
    "betw, clos, in_deg, out_deg = methods.weighted_centr_measures(G)"
   ]
  },
  {
   "cell_type": "code",
   "execution_count": 10,
   "id": "d2283cdb-d15d-4389-bf3f-5f5ff704760a",
   "metadata": {},
   "outputs": [
    {
     "name": "stdout",
     "output_type": "stream",
     "text": [
      "0.24181 Germany\n",
      "0.23490 Netherlands\n",
      "0.19670 Singapore\n",
      "0.16471 Viet Nam\n",
      "0.14205 Switzerland\n",
      "0.12049 China\n",
      "0.10335 Belgium\n",
      "0.09455 Malaysia\n",
      "0.08631 Spain\n",
      "0.08408 Poland\n"
     ]
    }
   ],
   "source": [
    "util.print_dict(betw)"
   ]
  },
  {
   "cell_type": "code",
   "execution_count": 11,
   "id": "cdde4f0d-14dd-424e-9f53-933fa64dbc15",
   "metadata": {},
   "outputs": [
    {
     "name": "stdout",
     "output_type": "stream",
     "text": [
      "0.01919 United States of America\n",
      "0.01476 China\n",
      "0.01070 Germany\n",
      "0.00915 France\n",
      "0.00891 India\n",
      "0.00880 Netherlands\n",
      "0.00852 Canada\n",
      "0.00850 Italy\n",
      "0.00843 United Kingdom\n",
      "0.00809 Belgium\n"
     ]
    }
   ],
   "source": [
    "util.print_dict(clos)"
   ]
  },
  {
   "cell_type": "code",
   "execution_count": 12,
   "id": "e16b73dd-d440-4b5c-af4e-c5d09b83623e",
   "metadata": {},
   "outputs": [
    {
     "data": {
      "text/plain": [
       "[('Afghanistan', 0.004110039694771515),\n",
       " ('Angola', 0.0053674867834343516),\n",
       " ('Argentina', 0.02769798212916849),\n",
       " ('Armenia', 0.0030912417464512934),\n",
       " ('Australia', 0.09705748385106157),\n",
       " ('Austria', 0.08007678031499002),\n",
       " ('Azerbaijan', 0.005411691580740849),\n",
       " ('Belarus', 0.015919502888660952),\n",
       " ('Belgium', 0.18451127839738282),\n",
       " ('Benin', 0.0046793479889783085),\n",
       " ('Bolivia, Plurinational State of', 0.0025743726420712526),\n",
       " ('Brazil', 0.07341529764491711),\n",
       " ('Brunei Darussalam', 0.0027094179092643543),\n",
       " ('Bulgaria', 0.03392808907353512),\n",
       " ('Burkina Faso', 0.007915667274108907),\n",
       " ('Canada', 0.07842749297965679),\n",
       " ('China', 1.0),\n",
       " ('Colombia', 0.017549462969457873),\n",
       " ('Comoros', 0.00038888297601272513),\n",
       " ('Cyprus', 0.0489900957053356),\n",
       " ('Denmark', 0.36158495951971326),\n",
       " ('Dominican Republic', 0.009116771345591725),\n",
       " ('Ecuador', 0.01865266480137078),\n",
       " ('Egypt', 0.028546377398089667),\n",
       " ('El Salvador', 0.013033830561753916),\n",
       " ('Estonia', 0.02269140450594007),\n",
       " ('Finland', 0.039788697864999265),\n",
       " ('France', 0.31228741740997445),\n",
       " ('Georgia', 0.007664281087235039),\n",
       " ('Germany', 0.7004861224980794),\n",
       " ('Greece', 0.05596330664728077),\n",
       " ('Guatemala', 0.021857731696193705),\n",
       " ('Honduras', 0.01834432204978986),\n",
       " ('Hungary', 0.06082609848237913),\n",
       " ('Iceland', 0.0028076588577000965),\n",
       " ('India', 0.37900225192135717),\n",
       " ('Indonesia', 0.05824676208782608),\n",
       " ('Ireland', 0.02179374471561727),\n",
       " ('Israel', 0.02357426072719802),\n",
       " ('Italy', 0.33990728046640173),\n",
       " ('Japan', 0.2470042085481896),\n",
       " ('Kenya', 0.014978653548605052),\n",
       " ('Kyrgyzstan', 0.003996508079464134),\n",
       " (\"Lao People's Democratic Republic\", 0.001835037343402),\n",
       " ('Latvia', 0.028436396880944154),\n",
       " ('Lithuania', 0.039003022292122186),\n",
       " ('Luxembourg', 0.009159718039755047),\n",
       " ('Macao, China', 0.0005403805685632065),\n",
       " ('Malaysia', 0.07776530845125762),\n",
       " ('Maldives', 0.0015137475423213926),\n",
       " ('Malta', 0.008102411308736528),\n",
       " ('Mauritania', 0.0026302049946744337),\n",
       " ('Mexico', 0.05326694039118899),\n",
       " ('Montenegro', 0.007192263100759254),\n",
       " ('Morocco', 0.017222288007882183),\n",
       " ('Mozambique', 0.009338690822835088),\n",
       " ('Netherlands', 0.34205097862878303),\n",
       " ('New Zealand', 0.012266565192277028),\n",
       " ('Nicaragua', 0.009735073013724718),\n",
       " ('Norway', 0.05169602377264512),\n",
       " ('Pakistan', 0.03790224920215362),\n",
       " ('Peru', 0.012219051562116034),\n",
       " ('Philippines', 0.06925199294403385),\n",
       " ('Poland', 0.22944389567257797),\n",
       " ('Portugal', 0.030297744004941854),\n",
       " ('Romania', 0.06742176025645956),\n",
       " ('Saudi Arabia', 0.09477149524887284),\n",
       " ('Senegal', 0.007037346160667044),\n",
       " ('Serbia', 0.030288885319016887),\n",
       " ('Singapore', 0.1586521554125007),\n",
       " ('Slovakia', 0.0450920627412885),\n",
       " ('Slovenia', 0.033573634940066696),\n",
       " ('Spain', 0.21673639085024154),\n",
       " ('Sweden', 0.07059682884545242),\n",
       " ('Switzerland', 0.29361634944555703),\n",
       " ('Tajikistan', 0.0028558170676674546),\n",
       " ('Tanzania, United Republic of', 0.008067092118305547),\n",
       " ('Thailand', 0.2730849974905569),\n",
       " ('Tunisia', 0.01117954944880769),\n",
       " ('Turkey', 0.1410848730136668),\n",
       " ('Ukraine', 0.0391183572527783),\n",
       " ('United Kingdom', 0.22739396479850718),\n",
       " ('United States of America', 0.9122397716066676),\n",
       " ('Uzbekistan', 0.014004880236684992),\n",
       " ('Zambia', 0.00795763373207281),\n",
       " ('Albania', 0.004149248160192783),\n",
       " ('Cambodia', 0.009279463484879846),\n",
       " ('Chile', 0.02448118039726204),\n",
       " ('Congo', 0.0036508678177959225),\n",
       " ('Croatia', 0.03834569630267012),\n",
       " ('Ethiopia', 0.01179903569479213),\n",
       " ('Guyana', 0.011077101760240559),\n",
       " ('Madagascar', 0.005941723574705725),\n",
       " ('Mauritius', 0.012636445909205108),\n",
       " ('Paraguay', 0.0032318751115588858),\n",
       " ('Togo', 0.006038477027452619),\n",
       " ('Algeria', 0.007739565996039404),\n",
       " ('Antigua and Barbuda', 0.0008207649581620826),\n",
       " ('Bahamas', 0.0012234274318788953),\n",
       " ('Bahrain', 0.001956711556049545),\n",
       " ('Bangladesh', 0.015639164243258688),\n",
       " ('Botswana', 0.002886348925928462),\n",
       " ('Cabo Verde', 0.00039131395262425786),\n",
       " ('Cameroon', 0.0037137181516280877),\n",
       " ('Cayman Islands', 0.0008808865330655571),\n",
       " ('Chad', 0.0005698961346280307),\n",
       " ('Congo, Democratic Republic of the', 0.012682929881581316),\n",
       " ('Costa Rica', 0.00811813397387199),\n",
       " ('Cuba', 0.0008815854869467968),\n",
       " ('Djibouti', 0.001179559338932975),\n",
       " ('Equatorial Guinea', 0.00021640224134036624),\n",
       " ('Gabon', 0.002370949112978206),\n",
       " ('Gambia', 0.001221419679334091),\n",
       " ('Ghana', 0.006263963114974604),\n",
       " ('Guinea', 0.0019169486651878832),\n",
       " ('Kazakhstan', 0.026889478922834633),\n",
       " ('Kuwait', 0.003543852976035208),\n",
       " ('Lebanon', 0.006334341519850781),\n",
       " ('Lesotho', 0.000773142108878276),\n",
       " ('Liberia', 0.0037100760052051385),\n",
       " ('Malawi', 0.0021991248508785614),\n",
       " ('Mali', 0.010890476746293141),\n",
       " ('Marshall Islands', 0.005251181992552536),\n",
       " ('Namibia', 0.003362539886244952),\n",
       " ('Oman', 0.0029310471888070785),\n",
       " ('Papua New Guinea', 0.0012198234812986531),\n",
       " ('Qatar', 0.004334582160292491),\n",
       " ('Rwanda', 0.001530442647327276),\n",
       " ('Saint Vincent and the Grenadines', 0.001010338782079842),\n",
       " ('Sierra Leone', 0.0004092653387780487),\n",
       " ('Sudan', 0.001858305759903305),\n",
       " ('Trinidad and Tobago', 0.005850572804486),\n",
       " ('Turks and Caicos Islands', 4.845745412835137e-05),\n",
       " ('Uruguay', 0.003671104834569538),\n",
       " ('Viet Nam', 0.049165954779639406),\n",
       " ('Barbados', 0.017310993225216363),\n",
       " ('Belize', 0.001475328656257654),\n",
       " ('Grenada', 0.003863349731578578),\n",
       " ('Samoa', 0.0010761946780846877),\n",
       " ('Burundi', 0.0008446285517031874),\n",
       " ('Dominica', 0.0005223830970553664),\n",
       " ('Fiji', 0.0009063311754485446),\n",
       " ('Haiti', 0.002790507633053875),\n",
       " ('Iran, Islamic Republic of', 0.006569368079528782),\n",
       " ('Iraq', 0.008764652187200826),\n",
       " ('Jamaica', 0.0045865288091168415),\n",
       " ('Jordan', 0.003678205097156199),\n",
       " ('Mongolia', 0.0009176298747104526),\n",
       " ('Myanmar', 0.003671787199840248),\n",
       " ('Nepal', 0.0008936457887782662),\n",
       " ('Niger', 0.0028135548495901094),\n",
       " ('Saint Kitts and Nevis', 0.0003212894618881925),\n",
       " ('Saint Lucia', 0.0013365061305357056),\n",
       " ('Seychelles', 0.0005367629510366705),\n",
       " ('Somalia', 0.0011476051416851373),\n",
       " ('Sri Lanka', 0.0030079278124097845),\n",
       " ('Suriname', 0.0007571867743321817),\n",
       " ('Uganda', 0.0030269350396760616),\n",
       " ('Zimbabwe', 0.005726987201675944),\n",
       " ('Bermuda', 0.0003694805776579494),\n",
       " ('Central African Republic', 0.0002468971147885189),\n",
       " ('Eswatini', 0.001160029431009492),\n",
       " ('Guinea-Bissau', 0.0005118093596031227),\n",
       " ('Nauru', 0.00021138061743889558),\n",
       " ('Bosnia and herzegovina', 0.0),\n",
       " ('Curaçao', 0.0),\n",
       " ('Czech republic', 0.0),\n",
       " (\"Côte d'Ivoire\", 0.0),\n",
       " ('Korea, republic of', 0.0),\n",
       " ('Libya, state of', 0.0),\n",
       " ('Macedonia, north', 0.0),\n",
       " ('Moldova, republic of', 0.0),\n",
       " ('Russian federation', 0.0),\n",
       " ('South africa', 0.0),\n",
       " ('United arab emirates', 0.0)]"
      ]
     },
     "execution_count": 12,
     "metadata": {},
     "output_type": "execute_result"
    }
   ],
   "source": [
    "in_deg"
   ]
  },
  {
   "cell_type": "code",
   "execution_count": 13,
   "id": "59450c3b-edc3-421d-b408-a228a46ccabf",
   "metadata": {},
   "outputs": [
    {
     "data": {
      "text/plain": [
       "[('Afghanistan', 0.011402471774422189),\n",
       " ('Angola', 0.08340121025269266),\n",
       " ('Argentina', 0.028763225162964295),\n",
       " ('Armenia', 0.025317044225252747),\n",
       " ('Australia', 0.02824673293840136),\n",
       " ('Austria', 0.06740798884120835),\n",
       " ('Azerbaijan', 0.07657362475162731),\n",
       " ('Belarus', 0.024500287497416146),\n",
       " ('Belgium', 0.1450191054499041),\n",
       " ('Benin', 0.009778624455867135),\n",
       " ('Bolivia, Plurinational State of', 0.04335081222114621),\n",
       " ('Brazil', 0.028423354762244796),\n",
       " ('Brunei Darussalam', 0.13973027616461883),\n",
       " ('Bulgaria', 0.0848758603058042),\n",
       " ('Burkina Faso', 0.04235343241522025),\n",
       " ('Canada', 0.046585619299935294),\n",
       " ('China', 0.024776033935662887),\n",
       " ('Colombia', 0.020320587777283593),\n",
       " ('Comoros', 0.004212204747836366),\n",
       " ('Cyprus', 0.0184478216018281),\n",
       " ('Denmark', 0.041476719818256354),\n",
       " ('Dominican Republic', 0.022892919061265216),\n",
       " ('Ecuador', 0.032416668063148496),\n",
       " ('Egypt', 0.01406748187210926),\n",
       " ('El Salvador', 0.034293694989492085),\n",
       " ('Estonia', 0.10189255347751866),\n",
       " ('Finland', 0.04192950328161543),\n",
       " ('France', 0.031383043260966366),\n",
       " ('Georgia', 0.026425753620579615),\n",
       " ('Germany', 0.05911790591407251),\n",
       " ('Greece', 0.03383326123194811),\n",
       " ('Guatemala', 0.025933567616417855),\n",
       " ('Honduras', 0.03160623200097193),\n",
       " ('Hungary', 0.13092129518352058),\n",
       " ('Iceland', 0.04135106934315029),\n",
       " ('India', 0.019330187510810455),\n",
       " ('Indonesia', 0.030348653991452403),\n",
       " ('Ireland', 0.06741320509841943),\n",
       " ('Israel', 0.018939343157134778),\n",
       " ('Italy', 0.045921934400211785),\n",
       " ('Japan', 0.018207651696954274),\n",
       " ('Kenya', 0.009172420671452868),\n",
       " ('Kyrgyzstan', 0.023251086084794915),\n",
       " (\"Lao People's Democratic Republic\", 0.04390545701771086),\n",
       " ('Latvia', 0.07951743219766366),\n",
       " ('Lithuania', 0.09650107489234493),\n",
       " ('Luxembourg', 0.032407064215989836),\n",
       " ('Macao, China', 0.0017405164700924642),\n",
       " ('Malaysia', 0.11826376012520501),\n",
       " ('Maldives', 0.006187649127876882),\n",
       " ('Malta', 0.029139202129355567),\n",
       " ('Mauritania', 0.060532843680658324),\n",
       " ('Mexico', 0.06652886488223123),\n",
       " ('Montenegro', 0.012096384825390985),\n",
       " ('Morocco', 0.04732191089121067),\n",
       " ('Mozambique', 0.04340480824083422),\n",
       " ('Netherlands', 0.09935639990982913),\n",
       " ('New Zealand', 0.028081351287011922),\n",
       " ('Nicaragua', 0.07688505682941013),\n",
       " ('Norway', 0.06680589221574912),\n",
       " ('Pakistan', 0.015896566609687655),\n",
       " ('Peru', 0.039365793967168),\n",
       " ('Philippines', 0.02536727184638511),\n",
       " ('Poland', 0.0742885235770616),\n",
       " ('Portugal', 0.048981890980061914),\n",
       " ('Romania', 0.05010155615510137),\n",
       " ('Saudi Arabia', 0.011404252096037232),\n",
       " ('Senegal', 0.02554610650127894),\n",
       " ('Serbia', 0.06037254559498527),\n",
       " ('Singapore', 0.15766148083162732),\n",
       " ('Slovakia', 0.13259491930893372),\n",
       " ('Slovenia', 0.12487945511725047),\n",
       " ('Spain', 0.04256569456397915),\n",
       " ('Sweden', 0.05067221942387324),\n",
       " ('Switzerland', 0.07298344986294844),\n",
       " ('Tajikistan', 0.03218498355986908),\n",
       " ('Tanzania, United Republic of', 0.010809685402087465),\n",
       " ('Thailand', 0.07366028335633601),\n",
       " ('Tunisia', 0.05388482760617773),\n",
       " ('Turkey', 0.04302549675785691),\n",
       " ('Ukraine', 0.05830209715623881),\n",
       " ('United Kingdom', 0.022947115525248186),\n",
       " ('United States of America', 0.011714708551527068),\n",
       " ('Uzbekistan', 0.019173196963146594),\n",
       " ('Zambia', 0.09296817587014328),\n",
       " ('Albania', 0.03297291449467329),\n",
       " ('Cambodia', 0.10185734420902051),\n",
       " ('Chile', 0.050233755917212415),\n",
       " ('Congo', 0.031285601771009156),\n",
       " ('Croatia', 0.054038340485957265),\n",
       " ('Ethiopia', 0.0038470571140142113),\n",
       " ('Guyana', 0.11083936501944718),\n",
       " ('Madagascar', 0.030386591279818426),\n",
       " ('Mauritius', 0.01966498031336655),\n",
       " ('Paraguay', 0.04188160632178365),\n",
       " ('Togo', 0.01962302553804344),\n",
       " ('Algeria', 0.037660054984859935),\n",
       " ('Antigua and Barbuda', 0.021424582259701976),\n",
       " ('Bahamas', 0.017807201025263023),\n",
       " ('Bahrain', 0.04869137157944039),\n",
       " ('Bangladesh', 0.02390469942674639),\n",
       " ('Botswana', 0.028505665720893185),\n",
       " ('Cabo Verde', 0.011579147773241875),\n",
       " ('Cameroon', 0.017241069202647643),\n",
       " ('Cayman Islands', 0.06828138391398031),\n",
       " ('Chad', 0.025424145067906873),\n",
       " ('Congo, Democratic Republic of the', 0.04362107634680598),\n",
       " ('Costa Rica', 0.04906143733192028),\n",
       " ('Cuba', 0.002339288698863527),\n",
       " ('Djibouti', 0.01645962862760092),\n",
       " ('Equatorial Guinea', 0.06971203727338326),\n",
       " ('Gabon', 0.05970582926448301),\n",
       " ('Gambia', 0.010405051809686488),\n",
       " ('Ghana', 0.027322760664341625),\n",
       " ('Guinea', 0.07082230812050279),\n",
       " ('Kazakhstan', 0.042259593917063715),\n",
       " ('Kuwait', 0.06281273714986726),\n",
       " ('Lebanon', 0.010276293812525249),\n",
       " ('Lesotho', 0.05686511358036298),\n",
       " ('Liberia', 0.0780720380618918),\n",
       " ('Malawi', 0.009857350950547803),\n",
       " ('Mali', 0.01841070849942245),\n",
       " ('Marshall Islands', 0.6506674221313179),\n",
       " ('Namibia', 0.04494765375702038),\n",
       " ('Oman', 0.0966644720002217),\n",
       " ('Papua New Guinea', 0.06376816422606846),\n",
       " ('Qatar', 0.06755549768142112),\n",
       " ('Rwanda', 0.005746488961158565),\n",
       " ('Saint Vincent and the Grenadines', 0.019016317646633012),\n",
       " ('Sierra Leone', 0.03411435428623374),\n",
       " ('Sudan', 0.01682600039633296),\n",
       " ('Trinidad and Tobago', 0.07398145360728076),\n",
       " ('Turks and Caicos Islands', 0.0016166100295898754),\n",
       " ('Uruguay', 0.03138534470345599),\n",
       " ('Viet Nam', 0.20370185530952994),\n",
       " ('Barbados', 0.00937112628567301),\n",
       " ('Belize', 0.0243158574239699),\n",
       " ('Grenada', 0.002097629989102936),\n",
       " ('Samoa', 0.00331298262131829),\n",
       " ('Burundi', 0.00402509416576061),\n",
       " ('Dominica', 0.00869453632959427),\n",
       " ('Fiji', 0.019523686533862966),\n",
       " ('Haiti', 0.014650849641784603),\n",
       " ('Iran, Islamic Republic of', 0.009834082300704627),\n",
       " ('Iraq', 0.06961013510167746),\n",
       " ('Jamaica', 0.010722226529980294),\n",
       " ('Jordan', 0.02859024412736921),\n",
       " ('Mongolia', 0.0919911662644096),\n",
       " ('Myanmar', 0.035171572071765474),\n",
       " ('Nepal', 0.0075643968502038155),\n",
       " ('Niger', 0.009926787361857016),\n",
       " ('Saint Kitts and Nevis', 0.01040063919812492),\n",
       " ('Saint Lucia', 0.0039771623386131855),\n",
       " ('Seychelles', 0.09526126577145018),\n",
       " ('Somalia', 0.0035873728645695415),\n",
       " ('Sri Lanka', 0.02306178314507341),\n",
       " ('Suriname', 0.08189464895600676),\n",
       " ('Uganda', 0.006332279677218009),\n",
       " ('Zimbabwe', 0.015538917495293092),\n",
       " ('Bermuda', 0.005117346713336138),\n",
       " ('Central African Republic', 0.005607996439679253),\n",
       " ('Eswatini', 0.03000296532895854),\n",
       " ('Guinea-Bissau', 0.01951646669265788),\n",
       " ('Nauru', 0.2607819332840909),\n",
       " ('Bosnia and herzegovina', 0.056560158190054076),\n",
       " ('Curaçao', 0.021563236733951996),\n",
       " ('Czech republic', 0.13886443826655087),\n",
       " (\"Côte d'Ivoire\", 0.03114492369633867),\n",
       " ('Korea, republic of', 0.05351127179817367),\n",
       " ('Libya, state of', 0.18771283931818283),\n",
       " ('Macedonia, north', 0.10975289584127083),\n",
       " ('Moldova, republic of', 0.0356695852446356),\n",
       " ('Russian federation', 0.04792844482586999),\n",
       " ('South africa', 0.049360241451522034),\n",
       " ('United arab emirates', 0.08361914501519802)]"
      ]
     },
     "execution_count": 13,
     "metadata": {},
     "output_type": "execute_result"
    }
   ],
   "source": [
    "out_deg"
   ]
  }
 ],
 "metadata": {
  "interpreter": {
   "hash": "369f2c481f4da34e4445cda3fffd2e751bd1c4d706f27375911949ba6bb62e1c"
  },
  "kernelspec": {
   "display_name": "Python 3 (ipykernel)",
   "language": "python",
   "name": "python3"
  },
  "language_info": {
   "codemirror_mode": {
    "name": "ipython",
    "version": 3
   },
   "file_extension": ".py",
   "mimetype": "text/x-python",
   "name": "python",
   "nbconvert_exporter": "python",
   "pygments_lexer": "ipython3",
   "version": "3.10.2"
  }
 },
 "nbformat": 4,
 "nbformat_minor": 5
}
